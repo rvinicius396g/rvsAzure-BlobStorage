{
 "cells": [
  {
   "cell_type": "code",
   "execution_count": null,
   "metadata": {},
   "outputs": [
    {
     "name": "stdout",
     "output_type": "stream",
     "text": [
      "Collecting azure-storage-blob\n",
      "  Using cached azure_storage_blob-12.24.1-py3-none-any.whl.metadata (26 kB)\n",
      "Collecting azure-core>=1.30.0 (from azure-storage-blob)\n",
      "  Using cached azure_core-1.32.0-py3-none-any.whl.metadata (39 kB)\n",
      "Requirement already satisfied: cryptography>=2.1.4 in c:\\users\\rober\\anaconda3\\lib\\site-packages (from azure-storage-blob) (42.0.5)\n",
      "Requirement already satisfied: typing-extensions>=4.6.0 in c:\\users\\rober\\anaconda3\\lib\\site-packages (from azure-storage-blob) (4.11.0)\n",
      "Collecting isodate>=0.6.1 (from azure-storage-blob)\n",
      "  Using cached isodate-0.7.2-py3-none-any.whl.metadata (11 kB)\n",
      "Requirement already satisfied: requests>=2.21.0 in c:\\users\\rober\\anaconda3\\lib\\site-packages (from azure-core>=1.30.0->azure-storage-blob) (2.32.3)\n",
      "Requirement already satisfied: six>=1.11.0 in c:\\users\\rober\\anaconda3\\lib\\site-packages (from azure-core>=1.30.0->azure-storage-blob) (1.16.0)\n",
      "Requirement already satisfied: cffi>=1.12 in c:\\users\\rober\\anaconda3\\lib\\site-packages (from cryptography>=2.1.4->azure-storage-blob) (1.16.0)\n",
      "Requirement already satisfied: pycparser in c:\\users\\rober\\anaconda3\\lib\\site-packages (from cffi>=1.12->cryptography>=2.1.4->azure-storage-blob) (2.21)\n",
      "Requirement already satisfied: charset-normalizer<4,>=2 in c:\\users\\rober\\anaconda3\\lib\\site-packages (from requests>=2.21.0->azure-core>=1.30.0->azure-storage-blob) (2.0.4)\n",
      "Requirement already satisfied: idna<4,>=2.5 in c:\\users\\rober\\anaconda3\\lib\\site-packages (from requests>=2.21.0->azure-core>=1.30.0->azure-storage-blob) (3.7)\n",
      "Requirement already satisfied: urllib3<3,>=1.21.1 in c:\\users\\rober\\anaconda3\\lib\\site-packages (from requests>=2.21.0->azure-core>=1.30.0->azure-storage-blob) (2.2.2)\n",
      "Requirement already satisfied: certifi>=2017.4.17 in c:\\users\\rober\\anaconda3\\lib\\site-packages (from requests>=2.21.0->azure-core>=1.30.0->azure-storage-blob) (2024.8.30)\n",
      "Using cached azure_storage_blob-12.24.1-py3-none-any.whl (408 kB)\n",
      "Using cached azure_core-1.32.0-py3-none-any.whl (198 kB)\n",
      "Using cached isodate-0.7.2-py3-none-any.whl (22 kB)\n",
      "Installing collected packages: isodate, azure-core, azure-storage-blob\n",
      "Successfully installed azure-core-1.32.0 azure-storage-blob-12.24.1 isodate-0.7.2\n",
      "Note: you may need to restart the kernel to use updated packages.\n"
     ]
    }
   ],
   "source": [
    "#Instalação do pacote da azure -- executar se for a primeira vez utilizando\n",
    "pip install azure-storage-blob"
   ]
  },
  {
   "cell_type": "code",
   "execution_count": 4,
   "metadata": {},
   "outputs": [
    {
     "name": "stdout",
     "output_type": "stream",
     "text": [
      "Erro: ('Connection aborted.', TimeoutError('The write operation timed out'))\n"
     ]
    }
   ],
   "source": [
    "#Script Python para Upload do Arquivo\n",
    "from azure.storage.blob import BlobServiceClient\n",
    "\n",
    "# Configurações da conta de armazenamento\n",
    "connection_string = \"SUA_STRING_DE_CONEXÃO_AQUI\"  # Substitua pela sua connection string\n",
    "container_name = \"rvsarquivos\"  # Nome do container de destino\n",
    "blob_name = \"incident_event_log.csv\"  # Nome do arquivo no Blob Storage\n",
    "local_file_path = \"./incident_event_log.csv\"  # Caminho local do arquivo\n",
    "\n",
    "# Conectar ao Blob Storage\n",
    "blob_service_client = BlobServiceClient.from_connection_string(connection_string)\n",
    "container_client = blob_service_client.get_container_client(container_name)\n",
    "blob_client = container_client.get_blob_client(blob_name)\n",
    "\n",
    "# Fazer o upload do arquivo\n",
    "try:\n",
    "    with open(local_file_path, \"rb\") as data:\n",
    "        blob_client.upload_blob(data, overwrite=True)  # Sobrescreve se o arquivo já existir\n",
    "    print(f\"Arquivo '{blob_name}' enviado com sucesso para o container '{container_name}'!\")\n",
    "except Exception as e:\n",
    "    print(f\"Erro: {e}\")\n"
   ]
  },
  {
   "cell_type": "code",
   "execution_count": null,
   "metadata": {},
   "outputs": [
    {
     "name": "stdout",
     "output_type": "stream",
     "text": [
      "Arquivo baixado: ./incident_event_log.csv\n"
     ]
    }
   ],
   "source": [
    "#Script Python para DOWNLOAD do Arquivo\n",
    "\n",
    "from azure.storage.blob import BlobServiceClient\n",
    "\n",
    "# Configurações corrigidas\n",
    "connection_string = \"SUA_STRING_DE_CONEXÃO_AQUI\"\n",
    "container_name = \"rvsarquivos\"\n",
    "blob_name = \"incident_event_log.csv\" #nome do arquivo que foi realizado o \n",
    "local_file_path = \"./incident_event_log.csv\"\n",
    "\n",
    "# Conectar ao Blob Storage\n",
    "blob_service_client = BlobServiceClient.from_connection_string(connection_string)\n",
    "container_client = blob_service_client.get_container_client(container_name)\n",
    "blob_client = container_client.get_blob_client(blob_name)\n",
    "\n",
    "# Fazer o download\n",
    "try:\n",
    "    with open(local_file_path, \"wb\") as file:\n",
    "        download_stream = blob_client.download_blob()\n",
    "        file.write(download_stream.readall())\n",
    "    print(f\"Arquivo baixado: {local_file_path}\")\n",
    "except Exception as e:\n",
    "    print(f\"Erro: {e}\")"
   ]
  }
 ],
 "metadata": {
  "kernelspec": {
   "display_name": "base",
   "language": "python",
   "name": "python3"
  },
  "language_info": {
   "codemirror_mode": {
    "name": "ipython",
    "version": 3
   },
   "file_extension": ".py",
   "mimetype": "text/x-python",
   "name": "python",
   "nbconvert_exporter": "python",
   "pygments_lexer": "ipython3",
   "version": "3.12.4"
  }
 },
 "nbformat": 4,
 "nbformat_minor": 2
}
